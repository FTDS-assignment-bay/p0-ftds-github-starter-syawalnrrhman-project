{
 "cells": [
  {
   "cell_type": "code",
   "execution_count": 1,
   "id": "5e1d45f8",
   "metadata": {},
   "outputs": [
    {
     "data": {
      "text/plain": [
       "4"
      ]
     },
     "execution_count": 1,
     "metadata": {},
     "output_type": "execute_result"
    }
   ],
   "source": [
    "2*2"
   ]
  },
  {
   "cell_type": "markdown",
   "id": "cb35662b",
   "metadata": {},
   "source": [
    "# PUSH BANG"
   ]
  },
  {
   "cell_type": "markdown",
   "id": "da025800",
   "metadata": {},
   "source": [
    "Name : Syawal Nurrohman</br>\n",
    "Batch :RMT_047</br>\n",
    "\n",
    "Objektiff : Belajar cara menulis markdown dan push yang baik dan benar</br>\n",
    "Problem Statement : Jujur ini masih pusing</br>  "
   ]
  },
  {
   "cell_type": "markdown",
   "id": "e62a9079",
   "metadata": {},
   "source": [
    "# PUSH BG\n",
    "## sub\n",
    "###  sub sub\n"
   ]
  },
  {
   "cell_type": "markdown",
   "id": "1029fb7a",
   "metadata": {},
   "source": [
    "---"
   ]
  },
  {
   "cell_type": "markdown",
   "id": "78a93335",
   "metadata": {},
   "source": [
    "1. `git clone` -> untuk meng'download' repo tugas\n",
    "2. `cd <ke repo lokal>` -> untuk pindah folder ke repo lokal\n",
    "3. Buat file assignment ATAU pindahkan file assignment ke dalam repo lokal\n",
    "\n",
    "--semisal mau ngulang harus mulai dari step 4 bukan 1--\n",
    "\n",
    "4. `git status` -> untuk cek file baru di repo lokal (harusnya warna merah)\n",
    "5. `git add .` -> untuk memasukan file baru tsb ke stage mode\n",
    "6. `git status` -> untuk cek file baru tsb yg sdh di stage mode (harusnya warna hijau)\n",
    "7. `git commit -m <message nya apa?>` -> untuk memberi keterangan push\n",
    "8. `git push` -> untuk 'upload' file ke repository gitclassroom.\n",
    "9. Cek lagi file di repo git, sudah sesuai dgn yg kita buat atau belum?\n",
    "10. `git check out` <code version> -> untuk melihat versi tertentu\n",
    "11. `git ignore` -> untuk meng exclude kan yang tidak mau di push"
   ]
  },
  {
   "cell_type": "markdown",
   "id": "8caa26fa",
   "metadata": {},
   "source": [
    "` petik -> untuk sintaks atau rumus\n",
    "' string/quote </br>\n",
    "\n",
    "(bintang...bintang) -> *ini italic*</br>\n",
    "(double bintang..double bintang) -> **bold**</br>\n",
    "(triple bintang..triple bintang) -> ***bold italic***</br>\n",
    "\n",
    "Rumus bisa pakai simbol dolar, contoh:</br>\n",
    "y = 2x^2 + 5 (ini tanpa simbol dolar)</br>\n",
    "$ y =2x^2 + 5 $ (dengan simbol dolar)\n",
    "\n"
   ]
  },
  {
   "cell_type": "markdown",
   "id": "1a632fb8",
   "metadata": {},
   "source": [
    "# Header"
   ]
  },
  {
   "cell_type": "markdown",
   "id": "e1a1dfb5",
   "metadata": {},
   "source": [
    "semisal kita mau taruh sintaks sql di markdown utk dokumentasi\n",
    "```sql\n",
    "select * from Table_A\n",
    "where kota = 'jkt'\n",
    "order by age\n",
    "```\n"
   ]
  },
  {
   "cell_type": "markdown",
   "id": "5ac3833f",
   "metadata": {},
   "source": [
    "select * from Table_A\n",
    "where kota = 'jkt'\n",
    "order by age"
   ]
  },
  {
   "cell_type": "markdown",
   "id": "326c2a4c",
   "metadata": {},
   "source": [
    "### tingkatan\n",
    "\n",
    "1. RMT_47 :\n",
    "    - Boy :\n",
    "        - naufal\n",
    "        - alwi\n",
    "        - awal\n",
    "        - wesley\n",
    "        - irsyad\n",
    "    - Girl :\n",
    "        - Annisa\n",
    "        - Ade"
   ]
  },
  {
   "cell_type": "markdown",
   "id": "30f7116c",
   "metadata": {},
   "source": [
    "---"
   ]
  },
  {
   "cell_type": "markdown",
   "id": "0364327c",
   "metadata": {},
   "source": [
    "#   <p align=\"center\">*End*</p>"
   ]
  },
  {
   "cell_type": "markdown",
   "id": "34bc3f2c",
   "metadata": {},
   "source": [
    "---"
   ]
  }
 ],
 "metadata": {
  "kernelspec": {
   "display_name": "base",
   "language": "python",
   "name": "python3"
  },
  "language_info": {
   "codemirror_mode": {
    "name": "ipython",
    "version": 3
   },
   "file_extension": ".py",
   "mimetype": "text/x-python",
   "name": "python",
   "nbconvert_exporter": "python",
   "pygments_lexer": "ipython3",
   "version": "3.13.5"
  }
 },
 "nbformat": 4,
 "nbformat_minor": 5
}
